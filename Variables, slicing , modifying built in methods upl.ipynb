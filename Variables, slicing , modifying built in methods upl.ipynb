{
 "cells": [
  {
   "cell_type": "code",
   "execution_count": 1,
   "id": "8ef1ef3d",
   "metadata": {},
   "outputs": [
    {
     "name": "stdout",
     "output_type": "stream",
     "text": [
      "\n",
      "Enter your name :Ayesha khan\n",
      "\n",
      "Now Enter Your date of birth in year:2003\n",
      "\n",
      "What is the current year now:2023\n",
      "\n",
      "Your age =  20\n"
     ]
    }
   ],
   "source": [
    "\"\"\"\n",
    "This is the way how you take input from the \n",
    "user and prints the output according to its requirement\n",
    "\n",
    "\"\"\"\n",
    "x= str(input(\"\\nEnter your name :\"))\n",
    "y= int(input(\"\\nNow Enter Your date of birth in year:\"))\n",
    "z= int(input(\"\\nWhat is the current year now:\"))\n",
    "print(\"\\nYour age = \",z-y)"
   ]
  },
  {
   "cell_type": "code",
   "execution_count": 7,
   "id": "097122de",
   "metadata": {},
   "outputs": [
    {
     "name": "stdout",
     "output_type": "stream",
     "text": [
      "hak\n"
     ]
    }
   ],
   "source": [
    "#Slicing , indexing \n",
    "\n",
    "A = \"Ayeshakhan\"\n",
    "print(A[4:7])\n",
    "\n",
    "\"\"\"\n",
    "It prints hak and how come? The indexing starts from 0\n",
    "So it start counting from A, so 0 1 2 3 and at 4 there is h, \n",
    "so it prints h. Now there is a question that what is the mean \n",
    "of :7 like[4:7] , It already prints 4 but what is the purpose of \n",
    "writing :7. The purpose to write :7 means it print the index 4 to 7.\n",
    "And in indexing there is a rule that it dros the last index and \n",
    "print the index that comes before it, So at 7 h is coming but it \n",
    "drops the h and prints k which comes at 6.\n",
    "SO THIS IS THE CONCEPT\n",
    "\n",
    "\"\"\""
   ]
  },
  {
   "cell_type": "code",
   "execution_count": 14,
   "id": "ff2bb1a8",
   "metadata": {},
   "outputs": [
    {
     "name": "stdout",
     "output_type": "stream",
     "text": [
      "hmo\n"
     ]
    }
   ],
   "source": [
    "#Reverse indexing\n",
    "\n",
    "A = \"Asim Mehmood\"\n",
    "print(A[-5:-2])\n",
    "\n",
    "\"\"\"\n",
    "So in negitive indexing it starts from backward and starts from -1 \n",
    "and it according to the range it skips the index where the range is . \n",
    "So , For example in this above scripts the range is [-5:-2]\n",
    "so starts from -5 from the backward at -5 there comes h so at -2 it \n",
    "comes 2nd o but it drops the 2nd o and prints the first o. \n",
    "so the output could be hmo\n",
    "\n",
    "\"\"\"\n",
    "\n"
   ]
  },
  {
   "cell_type": "code",
   "execution_count": 17,
   "id": "3d605b3f",
   "metadata": {},
   "outputs": [
    {
     "name": "stdout",
     "output_type": "stream",
     "text": [
      "HELLO WORLD!\n"
     ]
    }
   ],
   "source": [
    "#Built in Methods\n",
    "a = \"Hello World!\"\n",
    "print(a.upper())\n",
    "\n",
    "\"\"\"\n",
    "so a.upper means capitilized the a value\n",
    "\n",
    "\"\"\"\n"
   ]
  },
  {
   "cell_type": "code",
   "execution_count": 18,
   "id": "64c5a3ee",
   "metadata": {},
   "outputs": [
    {
     "name": "stdout",
     "output_type": "stream",
     "text": [
      "hello world\n"
     ]
    }
   ],
   "source": [
    "#Built in Methods\n",
    "a = \"HELLO WORLD\"\n",
    "print(a.lower())\n",
    "\n",
    "\"\"\"\n",
    "so a.lower means Remove or remain unremove the \n",
    "capitilization.\n",
    "\n",
    "\"\"\""
   ]
  },
  {
   "cell_type": "code",
   "execution_count": 23,
   "id": "96023e9f",
   "metadata": {},
   "outputs": [
    {
     "name": "stdout",
     "output_type": "stream",
     "text": [
      " Hello, World! \n"
     ]
    }
   ],
   "source": [
    "a = \" Hello, World! \"\n",
    "print(a) # returns \"Hello, World!\"\n",
    "\n",
    "\"\"\"\n",
    "Note Here!\n",
    "\n",
    "\"\"\"\n"
   ]
  },
  {
   "cell_type": "code",
   "execution_count": 26,
   "id": "73200ae4",
   "metadata": {},
   "outputs": [
    {
     "name": "stdout",
     "output_type": "stream",
     "text": [
      "Hello, World!\n"
     ]
    }
   ],
   "source": [
    "a = \" Hello, World! \"\n",
    "print(a.strip())\n",
    "\n",
    "\"\"\"\n",
    "Did You notice Any differece?\n",
    "In the 1st code means the code before this it is except strip\n",
    "but in this we add strip.\n",
    "so what actually strip do?\n",
    "\n",
    "It remove the space or you can say white space in the print \n",
    "statement so in this print statement it remove the space and write \n",
    "from begining \n",
    "\n",
    "\"\"\""
   ]
  },
  {
   "cell_type": "code",
   "execution_count": null,
   "id": "38be7ce2",
   "metadata": {},
   "outputs": [],
   "source": []
  }
 ],
 "metadata": {
  "kernelspec": {
   "display_name": "Python 3 (ipykernel)",
   "language": "python",
   "name": "python3"
  },
  "language_info": {
   "codemirror_mode": {
    "name": "ipython",
    "version": 3
   },
   "file_extension": ".py",
   "mimetype": "text/x-python",
   "name": "python",
   "nbconvert_exporter": "python",
   "pygments_lexer": "ipython3",
   "version": "3.11.5"
  }
 },
 "nbformat": 4,
 "nbformat_minor": 5
}
